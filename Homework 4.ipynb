{
 "cells": [
  {
   "cell_type": "markdown",
   "metadata": {
    "colab_type": "text",
    "id": "0mPGD-QLUwuC"
   },
   "source": [
    "STAT 479: Deep Learning (Spring 2019)  \n",
    "Instructor: Sebastian Raschka (sraschka@wisc.edu)  \n",
    "Course website: http://pages.stat.wisc.edu/~sraschka/teaching/stat479-ss2019/  \n",
    "GitHub repository: https://github.com/rasbt/stat479-deep-learning-ss19\n",
    "\n",
    "---"
   ]
  },
  {
   "cell_type": "markdown",
   "metadata": {
    "colab_type": "text",
    "id": "rH4XmErYj5wm"
   },
   "source": [
    "# Homework 4: Implementing a Convolutional Neural Network (40 pts)"
   ]
  },
  {
   "cell_type": "markdown",
   "metadata": {
    "colab_type": "text",
    "id": "5SN7TJaIUwuH"
   },
   "source": [
    "In this 4th homework, your task is to implement a convolutional neural network for classifying images in the CIFAR-10 dataset (https://www.cs.toronto.edu/~kriz/cifar.html). \n",
    "\n",
    "### Dataset Overview\n",
    "\n",
    "- The CIFAR-10 dataset contains 60,000 color images with pixel dimensions 32x32. \n",
    "- There are 50,000 training images and 10,000 test images\n",
    "- Shown below is a snapshot showing a random selection for the 10 different object classes (from https://www.cs.toronto.edu/~kriz/cifar.html):\n",
    "\n",
    "![](cifar-snapshot.png)\n",
    "\n",
    "The CIFAR-10 dataset is already made accessible via the PyTorch API as it is a common dataset for benchmarking image classifiers. Hence, you do not have to download the dataset manually -- it will be downloaded automatically when you call\n",
    "\n",
    "```python\n",
    "train_dataset = datasets.CIFAR10(root='data', \n",
    "                                 train=True, \n",
    "                                 transform=transforms.ToTensor(),\n",
    "                                 download=True)\n",
    "```\n",
    "\n",
    "in the provided code cells below for the first time. Thus, keep in mind that calling this function for the first time may be a bit slow depending on your internet connection. On a conventional internet connection, it should be downloaded in a matter of seconds, though.\n",
    "\n",
    "Note that we are **not** using a separate validation dataset in this homework for tuning this network. This is intentional for the purposes of simplicity. However, in a real-world application, you are highly advised to use a validation dataset to tune the hyper parameters of the network as discussed in class.\n",
    "\n",
    "### Your Tasks\n",
    "\n",
    "Your main task is to implement a simple convolutional neural network that is loosely inspired by the AlexNet architecture that one the ImageNet competition in 2012: \n",
    "\n",
    "- Krizhevsky, A., Sutskever, I., & Hinton, G. E. (2012). [Imagenet classification with deep convolutional neural networks. In Advances in neural information processing systems](https://papers.nips.cc/paper/4824-imagenet-classification-with-deep-convolutional-neural-networks) (pp. 1097-1105).\n",
    "\n",
    "Then, you will make several simple modifications to this network architecture to improve its performance.\n",
    "\n",
    "Note that in this homework, as explained above, you will NOT be working with ImageNet but CIFAR-10, which is a much smaller dataset, in order for you to be able to train the network in a timely manner.\n",
    "\n",
    "In particular, you will be asked to first implement a basic convolutional neural network based on AlexNet and then make several improvements to optimize the performance and reduce overfitting. These \"improvements\" include Dropout, BatchNorm, and image augmentation, which will serve as a good exercise for familiarizing yourself with \"Deep Learning Tricks\" as well as convolutional neural networks.\n",
    "\n",
    "Note that the homework is relatively easy and straightforward, but the training of the network in each of the 5 sections will take ~5 min to train on a GPU. On a CPU, it will probably be much longer. Because training on the CPU will take much longer, and because you probably don't want your computer to overheat, I **highly recommend running this homework on a cloud server**, for example, Google Colab (which allows you to use a GPU for free). Since you don't have to download the dataset manually, it should be relatively straightforward to do this homework on Google Colab and then download the solution for submission via Canvas. Please let me know if you have any questions about that. For a Cloud computing refresher, please see: https://github.com/rasbt/stat479-deep-learning-ss19/tree/master/L07_cloud-computing.\n",
    "\n",
    "**The due date for this homework is Friday, 11 April 11:59 pm.** Please start as soon as possible, because while this homework is conceptually straightforward, you have to factor in the computation time (~30 min runtime for the complete notebook if you run this notebook with correct solutions)."
   ]
  },
  {
   "cell_type": "markdown",
   "metadata": {
    "colab_type": "text",
    "id": "MkoGLH_Tj5wn"
   },
   "source": [
    "## Imports"
   ]
  },
  {
   "cell_type": "code",
   "execution_count": 0,
   "metadata": {
    "colab": {},
    "colab_type": "code",
    "id": "ORj09gnrj5wp"
   },
   "outputs": [],
   "source": [
    "###############################\n",
    "### NO NEED TO CHANGE THIS CELL\n",
    "###############################\n",
    "\n",
    "import os\n",
    "import time\n",
    "\n",
    "import numpy as np\n",
    "import pandas as pd\n",
    "\n",
    "import torch\n",
    "import torch.nn as nn\n",
    "import torch.nn.functional as F\n",
    "from torch.utils.data import DataLoader\n",
    "\n",
    "from torchvision import datasets\n",
    "from torchvision import transforms\n",
    "\n",
    "import matplotlib.pyplot as plt\n",
    "from PIL import Image\n",
    "\n",
    "\n",
    "if torch.cuda.is_available():\n",
    "    torch.backends.cudnn.deterministic = True"
   ]
  },
  {
   "cell_type": "code",
   "execution_count": 0,
   "metadata": {
    "colab": {},
    "colab_type": "code",
    "id": "2d8MqbNsUwuO"
   },
   "outputs": [],
   "source": []
  },
  {
   "cell_type": "markdown",
   "metadata": {
    "colab_type": "text",
    "id": "GQejj-jeUwuS"
   },
   "source": [
    "<br>\n",
    "<br>"
   ]
  },
  {
   "cell_type": "markdown",
   "metadata": {
    "colab_type": "text",
    "id": "I6hghKPxj5w0"
   },
   "source": [
    "## Model Settings"
   ]
  },
  {
   "cell_type": "code",
   "execution_count": 0,
   "metadata": {
    "colab": {},
    "colab_type": "code",
    "id": "NnT0sZIwj5wu"
   },
   "outputs": [],
   "source": [
    "###############################\n",
    "### NO NEED TO CHANGE THIS CELL\n",
    "###############################\n",
    "\n",
    "\n",
    "#-------------------------\n",
    "### SETTINGS\n",
    "#-------------------------\n",
    "\n",
    "# Hyperparameters\n",
    "RANDOM_SEED = 1\n",
    "LEARNING_RATE = 0.001\n",
    "BATCH_SIZE = 256\n",
    "NUM_EPOCHS = 20\n",
    "\n",
    "# Architecture\n",
    "NUM_FEATURES = 32*32\n",
    "NUM_CLASSES = 10\n",
    "\n",
    "# Other\n",
    "DEVICE = \"cuda:0\""
   ]
  },
  {
   "cell_type": "markdown",
   "metadata": {
    "colab_type": "text",
    "id": "Xi6faG07UwuY"
   },
   "source": [
    "The following code cell that implements the ResNet-34 architecture is a derivative of the code provided at https://pytorch.org/docs/0.4.0/_modules/torchvision/models/resnet.html."
   ]
  },
  {
   "cell_type": "markdown",
   "metadata": {
    "colab_type": "text",
    "id": "isgw2C7DUwuZ"
   },
   "source": [
    "<br>\n",
    "<br>"
   ]
  },
  {
   "cell_type": "markdown",
   "metadata": {
    "colab_type": "text",
    "id": "RAodboScj5w6"
   },
   "source": [
    "## Dataset"
   ]
  },
  {
   "cell_type": "code",
   "execution_count": 3,
   "metadata": {
    "colab": {
     "base_uri": "https://localhost:8080/",
     "height": 102
    },
    "colab_type": "code",
    "id": "pyvBvmq5Uwua",
    "outputId": "d6c95191-61f7-4a2a-ac86-64c84bf8580c"
   },
   "outputs": [
    {
     "name": "stderr",
     "output_type": "stream",
     "text": [
      "  0%|          | 0/170498071 [00:00<?, ?it/s]"
     ]
    },
    {
     "name": "stdout",
     "output_type": "stream",
     "text": [
      "Downloading https://www.cs.toronto.edu/~kriz/cifar-10-python.tar.gz to data/cifar-10-python.tar.gz\n"
     ]
    },
    {
     "name": "stderr",
     "output_type": "stream",
     "text": [
      "100%|█████████▉| 169910272/170498071 [00:34<00:00, 5865396.37it/s]"
     ]
    },
    {
     "name": "stdout",
     "output_type": "stream",
     "text": [
      "Image batch dimensions: torch.Size([256, 3, 32, 32])\n",
      "Image label dimensions: torch.Size([256])\n",
      "Image batch dimensions: torch.Size([256, 3, 32, 32])\n",
      "Image label dimensions: torch.Size([256])\n"
     ]
    }
   ],
   "source": [
    "###############################\n",
    "### NO NEED TO CHANGE THIS CELL\n",
    "###############################\n",
    "\n",
    "#-------------------------\n",
    "### CIFAR-10 Dataset\n",
    "#-------------------------\n",
    "\n",
    "\n",
    "# Note transforms.ToTensor() scales input images\n",
    "# to 0-1 range\n",
    "train_dataset = datasets.CIFAR10(root='data', \n",
    "                                 train=True, \n",
    "                                 transform=transforms.ToTensor(),\n",
    "                                 download=True)\n",
    "\n",
    "test_dataset = datasets.CIFAR10(root='data', \n",
    "                                train=False, \n",
    "                                transform=transforms.ToTensor())\n",
    "\n",
    "\n",
    "train_loader = DataLoader(dataset=train_dataset, \n",
    "                          batch_size=BATCH_SIZE, \n",
    "                          num_workers=8,\n",
    "                          shuffle=True)\n",
    "\n",
    "test_loader = DataLoader(dataset=test_dataset, \n",
    "                         batch_size=BATCH_SIZE,\n",
    "                         num_workers=8,\n",
    "                         shuffle=False)\n",
    "\n",
    "# Checking the dataset\n",
    "for images, labels in train_loader:  \n",
    "    print('Image batch dimensions:', images.shape)\n",
    "    print('Image label dimensions:', labels.shape)\n",
    "    break\n",
    "\n",
    "# Checking the dataset\n",
    "for images, labels in train_loader:  \n",
    "    print('Image batch dimensions:', images.shape)\n",
    "    print('Image label dimensions:', labels.shape)\n",
    "    break"
   ]
  },
  {
   "cell_type": "code",
   "execution_count": 0,
   "metadata": {
    "colab": {},
    "colab_type": "code",
    "id": "GfnuCD7sUwud"
   },
   "outputs": [],
   "source": [
    "###############################\n",
    "### NO NEED TO CHANGE THIS CELL\n",
    "###############################\n",
    "\n",
    "def compute_epoch_loss(model, data_loader):\n",
    "    model.eval()\n",
    "    curr_loss, num_examples = 0., 0\n",
    "    with torch.no_grad():\n",
    "        for features, targets in data_loader:\n",
    "            features = features.to(DEVICE)\n",
    "            targets = targets.to(DEVICE)\n",
    "            logits, probas = model(features)\n",
    "            loss = F.cross_entropy(logits, targets, reduction='sum')\n",
    "            num_examples += targets.size(0)\n",
    "            curr_loss += loss\n",
    "\n",
    "        curr_loss = curr_loss / num_examples\n",
    "        return curr_loss\n",
    "\n",
    "\n",
    "def compute_accuracy(model, data_loader, device):\n",
    "    model.eval()\n",
    "    correct_pred, num_examples = 0, 0\n",
    "    for i, (features, targets) in enumerate(data_loader):\n",
    "            \n",
    "        features = features.to(device)\n",
    "        targets = targets.to(device)\n",
    "\n",
    "        logits, probas = model(features)\n",
    "        _, predicted_labels = torch.max(probas, 1)\n",
    "        num_examples += targets.size(0)\n",
    "        correct_pred += (predicted_labels == targets).sum()\n",
    "    return correct_pred.float()/num_examples * 100"
   ]
  },
  {
   "cell_type": "code",
   "execution_count": 5,
   "metadata": {
    "colab": {
     "base_uri": "https://localhost:8080/",
     "height": 37
    },
    "colab_type": "code",
    "id": "-cC7gIqgACO-",
    "outputId": "bd36a82f-7723-4a9d-c819-ad7a98cb9e89"
   },
   "outputs": [
    {
     "data": {
      "text/html": [
       "<img src=\"https://github.com/rasbt/stat479-deep-learning-ss19/blob/master/hw4/architecture-1.png\"/>"
      ],
      "text/plain": [
       "<IPython.core.display.Image object>"
      ]
     },
     "execution_count": 5,
     "metadata": {
      "tags": []
     },
     "output_type": "execute_result"
    }
   ],
   "source": [
    "\n",
    "from IPython.display import Image\n",
    "from IPython.core.display import HTML \n",
    "Image(url=\"https://github.com/rasbt/stat479-deep-learning-ss19/blob/master/hw4/architecture-1.png\")"
   ]
  },
  {
   "cell_type": "markdown",
   "metadata": {
    "colab_type": "text",
    "id": "IyDTx8YqUwuf"
   },
   "source": [
    "<br>\n",
    "<br>"
   ]
  },
  {
   "cell_type": "code",
   "execution_count": 0,
   "metadata": {
    "colab": {},
    "colab_type": "code",
    "id": "_lza9t_uj5w1"
   },
   "outputs": [],
   "source": [
    "## 1) Implement a Convolutional Neural Network"
   ]
  },
  {
   "cell_type": "markdown",
   "metadata": {
    "colab_type": "text",
    "id": "F4vOcOp3Uwui"
   },
   "source": [
    "In this part, you will be implementing the AlexNet-variant that you will be using and modifying throughout this homework. On purpose, this will be a bit more \"hands-off\" than usual, so that you get a chance to practice implementing neural networks from scratch based on sketches and short descriptions (which is a useful real-world skill as it is quite common to reimplement architectures from literature in order to verify results and compare those architectures to your own methods).\n",
    "\n",
    "The architecture is as follows:\n",
    "\n"
   ]
  },
  {
   "cell_type": "markdown",
   "metadata": {
    "colab_type": "text",
    "id": "MhSssDoyUwuj"
   },
   "source": [
    "Note that I made this network based on AlexNet, as mentioned in the introduction, but there are some differences. Overall though, there are 7 hidden layers in total: 5 convolutional layers and 2 fully-connected layers. There is one output layers mapping the last layer's activations to the classes. For this network, \n",
    "\n",
    "- all hidden layers are connected via ReLU activation functions\n",
    "- the output layer uses a softmax activation function\n",
    "- make sure you return the logits and the softmax output; the logits are used for computing the cross-entropy loss (instead of passing the softmax outputs) for numerical stability reasons as discussed in earlier lectures."
   ]
  },
  {
   "cell_type": "code",
   "execution_count": 0,
   "metadata": {
    "colab": {},
    "colab_type": "code",
    "id": "dvzRoUAcUwuj"
   },
   "outputs": [],
   "source": [
    "##########################\n",
    "### MODEL\n",
    "##########################\n",
    "\n",
    "class ConvNet1(nn.Module):\n",
    "\n",
    "    def __init__(self, num_classes=10):\n",
    "        super(ConvNet1, self).__init__()\n",
    "\n",
    "        \n",
    "    \n",
    "        \n",
    "        # padding:\n",
    "        # (w - k + 2*p)/s + 1 = o\n",
    "        # => p = (s(o-1) - w + k)/2\n",
    "        \n",
    "        #s = stride\n",
    "        #o = after length \n",
    "        #1 = 1\n",
    "        #w = original width\n",
    "        #k = kernel size\n",
    "        \n",
    "        \n",
    "        \n",
    "        #32x32x3 => 32x32x64\n",
    "        #p = (1(32-1) - 32 + 5)/2 \n",
    "        self.conv_1 =  nn.Conv2d(3, 64,    kernel_size=5, stride=1, padding=2)\n",
    "        \n",
    "        #32x32x64 => 16x16x64\n",
    "        #p = (2(16-1) - 32 + 2)/2 \n",
    "        self.pool_1 = torch.nn.MaxPool2d(kernel_size=2,\n",
    "                                         stride=2,\n",
    "                                         padding=0)    \n",
    "\n",
    "        #16x16x64 => 16x16x192\n",
    "        #p = (1(16-1) - 16 + 5)/2 \n",
    "        self.conv_2 =  nn.Conv2d(64, 192,    kernel_size=5, stride=1, padding=2)\n",
    "        \n",
    "        #16x16x192 => 8x8x192\n",
    "        #p = (2(8-1) - 16 + 2)/2         \n",
    "        self.pool_2 = torch.nn.MaxPool2d(kernel_size=(2, 2),\n",
    "                                         stride=(2, 2),\n",
    "                                         padding=0)   \n",
    "        \n",
    "        #8x8x192 => 8x8x384\n",
    "        #p = (2(8-1) - 8 + 3)/2 \n",
    "        self.conv_3 =  nn.Conv2d(192, 384, kernel_size=3, stride=1, padding=1)\n",
    "        #8x8x384 => 4x4x384\n",
    "        #p = (2(4-1) - 8 + 3)/2   \n",
    "        self.pool_3 = torch.nn.MaxPool2d(kernel_size=2,\n",
    "                                         stride=2) \n",
    "        #4x4x384 => 4x4x256\n",
    "        #p = (1(4-1) - 4 + 5)/2 \n",
    "        self.conv_4 =  nn.Conv2d(384, 256, kernel_size=5, stride=1, padding=2)\n",
    "        #4x4x256 => 2x2x256\n",
    "        #p = (2(2-1) - 4 + 2)/2   \n",
    "        self.pool_4 = torch.nn.MaxPool2d(kernel_size=2,\n",
    "                                         stride=2)              \n",
    "\n",
    "        #2x2x256 => 2x2x256\n",
    "        #p = (1(2-1) - 2 + 5)/2 \n",
    "        self.conv_5 =  nn.Conv2d(256, 256, kernel_size=5, stride=1, padding=2)\n",
    "        #2x2x256 => 1x1x256\n",
    "        #p = (2(1-1) - 2 + 2)/2   \n",
    "        self.pool_5 = torch.nn.MaxPool2d(kernel_size=2,\n",
    "                                         stride=2)\n",
    "                                         \n",
    "                                     \n",
    "       #2 fully-connected layers\n",
    "        self.linear_1 = nn.Linear(256, 4096)\n",
    "        self.linear_2 = nn.Linear(4096, 4096)\n",
    "        \n",
    "        #output layer\n",
    "        self.linear_3 = nn.Linear(4096, num_classes)  \n",
    "        \n",
    "\n",
    "    def forward(self, x):\n",
    "        \n",
    " \n",
    "        out = self.conv_1(x)\n",
    "        out = F.relu(out)\n",
    "        out = self.pool_1(out)\n",
    "        \n",
    "        out = self.conv_2(out)\n",
    "        out = F.relu(out)\n",
    "        out = self.pool_2(out)\n",
    "        \n",
    "        out = self.conv_3(out)\n",
    "        out = F.relu(out)\n",
    "        out = self.pool_3(out)\n",
    "        \n",
    "        out = self.conv_4(out)\n",
    "        out = F.relu(out)\n",
    "        out = self.pool_4(out)\n",
    "        \n",
    "        out = self.conv_5(out)\n",
    "        out = F.relu(out)\n",
    "        out = self.pool_5(out)\n",
    "        \n",
    "        out = out.view(out.size(0), -1)\n",
    "        \n",
    "        out = self.linear_1(out)\n",
    "        out = F.relu(out)\n",
    "        \n",
    "        out = self.linear_2(out)\n",
    "        out = F.relu(out)\n",
    "\n",
    "        \n",
    "        logits = self.linear_3(out)\n",
    "        probas = F.softmax(logits, dim=1)\n",
    "        return logits, probas\n",
    "\n",
    "    \n",
    "torch.manual_seed(RANDOM_SEED)\n",
    "\n",
    "model1 = ConvNet1(NUM_CLASSES)\n",
    "model1.to(DEVICE)\n",
    "\n",
    "optimizer = torch.optim.Adam(model1.parameters(), lr=LEARNING_RATE)  "
   ]
  },
  {
   "cell_type": "code",
   "execution_count": 7,
   "metadata": {
    "colab": {
     "base_uri": "https://localhost:8080/",
     "height": 1960
    },
    "colab_type": "code",
    "id": "Dzh3ROmRj5w7",
    "outputId": "6ca86fb8-77f1-471c-cd2b-90f8a76f64b4",
    "scrolled": false
   },
   "outputs": [
    {
     "name": "stdout",
     "output_type": "stream",
     "text": [
      "Epoch: 001/020 | Batch 0000/0196 | Cost: 2.3027\n",
      "Epoch: 001/020 | Batch 0150/0196 | Cost: 1.6545\n",
      "Epoch: 001/020 | Train: 43.558%\n",
      "Time elapsed: 1.28 min\n",
      "Epoch: 002/020 | Batch 0000/0196 | Cost: 1.5554\n",
      "Epoch: 002/020 | Batch 0150/0196 | Cost: 1.1869\n",
      "Epoch: 002/020 | Train: 60.948%\n",
      "Time elapsed: 2.59 min\n",
      "Epoch: 003/020 | Batch 0000/0196 | Cost: 0.9969\n",
      "Epoch: 003/020 | Batch 0150/0196 | Cost: 0.9897\n",
      "Epoch: 003/020 | Train: 67.840%\n",
      "Time elapsed: 3.89 min\n",
      "Epoch: 004/020 | Batch 0000/0196 | Cost: 0.9396\n",
      "Epoch: 004/020 | Batch 0150/0196 | Cost: 0.7135\n",
      "Epoch: 004/020 | Train: 74.956%\n",
      "Time elapsed: 5.19 min\n",
      "Epoch: 005/020 | Batch 0000/0196 | Cost: 0.8245\n",
      "Epoch: 005/020 | Batch 0150/0196 | Cost: 0.6786\n",
      "Epoch: 005/020 | Train: 78.286%\n",
      "Time elapsed: 6.49 min\n",
      "Epoch: 006/020 | Batch 0000/0196 | Cost: 0.5638\n",
      "Epoch: 006/020 | Batch 0150/0196 | Cost: 0.6567\n",
      "Epoch: 006/020 | Train: 86.012%\n",
      "Time elapsed: 7.79 min\n",
      "Epoch: 007/020 | Batch 0000/0196 | Cost: 0.4650\n",
      "Epoch: 007/020 | Batch 0150/0196 | Cost: 0.4304\n",
      "Epoch: 007/020 | Train: 87.454%\n",
      "Time elapsed: 9.09 min\n",
      "Epoch: 008/020 | Batch 0000/0196 | Cost: 0.3827\n",
      "Epoch: 008/020 | Batch 0150/0196 | Cost: 0.4035\n",
      "Epoch: 008/020 | Train: 91.090%\n",
      "Time elapsed: 10.40 min\n",
      "Epoch: 009/020 | Batch 0000/0196 | Cost: 0.3084\n",
      "Epoch: 009/020 | Batch 0150/0196 | Cost: 0.3581\n",
      "Epoch: 009/020 | Train: 92.492%\n",
      "Time elapsed: 11.70 min\n",
      "Epoch: 010/020 | Batch 0000/0196 | Cost: 0.2158\n",
      "Epoch: 010/020 | Batch 0150/0196 | Cost: 0.2729\n",
      "Epoch: 010/020 | Train: 94.168%\n",
      "Time elapsed: 13.00 min\n",
      "Epoch: 011/020 | Batch 0000/0196 | Cost: 0.1763\n",
      "Epoch: 011/020 | Batch 0150/0196 | Cost: 0.3202\n",
      "Epoch: 011/020 | Train: 95.674%\n",
      "Time elapsed: 14.31 min\n",
      "Epoch: 012/020 | Batch 0000/0196 | Cost: 0.1446\n",
      "Epoch: 012/020 | Batch 0150/0196 | Cost: 0.1460\n",
      "Epoch: 012/020 | Train: 95.970%\n",
      "Time elapsed: 15.61 min\n",
      "Epoch: 013/020 | Batch 0000/0196 | Cost: 0.0940\n",
      "Epoch: 013/020 | Batch 0150/0196 | Cost: 0.2052\n",
      "Epoch: 013/020 | Train: 96.164%\n",
      "Time elapsed: 16.91 min\n",
      "Epoch: 014/020 | Batch 0000/0196 | Cost: 0.0874\n",
      "Epoch: 014/020 | Batch 0150/0196 | Cost: 0.1677\n",
      "Epoch: 014/020 | Train: 97.200%\n",
      "Time elapsed: 18.21 min\n",
      "Epoch: 015/020 | Batch 0000/0196 | Cost: 0.1429\n",
      "Epoch: 015/020 | Batch 0150/0196 | Cost: 0.1119\n",
      "Epoch: 015/020 | Train: 98.338%\n",
      "Time elapsed: 19.51 min\n",
      "Epoch: 016/020 | Batch 0000/0196 | Cost: 0.0251\n",
      "Epoch: 016/020 | Batch 0150/0196 | Cost: 0.0723\n",
      "Epoch: 016/020 | Train: 98.034%\n",
      "Time elapsed: 20.81 min\n",
      "Epoch: 017/020 | Batch 0000/0196 | Cost: 0.0361\n",
      "Epoch: 017/020 | Batch 0150/0196 | Cost: 0.0592\n",
      "Epoch: 017/020 | Train: 98.122%\n",
      "Time elapsed: 22.11 min\n",
      "Epoch: 018/020 | Batch 0000/0196 | Cost: 0.0825\n",
      "Epoch: 018/020 | Batch 0150/0196 | Cost: 0.0572\n",
      "Epoch: 018/020 | Train: 98.478%\n",
      "Time elapsed: 23.41 min\n",
      "Epoch: 019/020 | Batch 0000/0196 | Cost: 0.0289\n",
      "Epoch: 019/020 | Batch 0150/0196 | Cost: 0.1082\n",
      "Epoch: 019/020 | Train: 98.556%\n",
      "Time elapsed: 24.72 min\n",
      "Epoch: 020/020 | Batch 0000/0196 | Cost: 0.0328\n",
      "Epoch: 020/020 | Batch 0150/0196 | Cost: 0.1124\n",
      "Epoch: 020/020 | Train: 98.440%\n",
      "Time elapsed: 26.02 min\n",
      "Total Training Time: 26.02 min\n",
      "Test accuracy: 71.98%\n",
      "Total Time: 26.08 min\n"
     ]
    },
    {
     "data": {
      "image/png": "[encoded data removed]",
      "text/plain": [
       "<Figure size 432x288 with 1 Axes>"
      ]
     },
     "metadata": {
      "tags": []
     },
     "output_type": "display_data"
    },
    {
     "data": {
      "image/png": "[encoded data removed]",
      "text/plain": [
       "<Figure size 432x288 with 1 Axes>"
      ]
     },
     "metadata": {
      "tags": []
     },
     "output_type": "display_data"
    }
   ],
   "source": [
    "###############################\n",
    "### NO NEED TO CHANGE THIS CELL\n",
    "###############################\n",
    "\n",
    "def train(model, train_loader, test_loader):\n",
    "\n",
    "    minibatch_cost, epoch_cost = [], []\n",
    "    start_time = time.time()\n",
    "    for epoch in range(NUM_EPOCHS):\n",
    "\n",
    "        model.train()\n",
    "        for batch_idx, (features, targets) in enumerate(train_loader):\n",
    "\n",
    "            features = features.to(DEVICE)\n",
    "            targets = targets.to(DEVICE)\n",
    "\n",
    "            ### FORWARD AND BACK PROP\n",
    "            logits, probas = model(features)\n",
    "            cost = F.cross_entropy(logits, targets)\n",
    "            optimizer.zero_grad()\n",
    "\n",
    "            cost.backward()\n",
    "            minibatch_cost.append(cost)\n",
    "\n",
    "            ### UPDATE MODEL PARAMETERS\n",
    "            optimizer.step()\n",
    "\n",
    "            ### LOGGING\n",
    "            if not batch_idx % 150:\n",
    "                print ('Epoch: %03d/%03d | Batch %04d/%04d | Cost: %.4f' \n",
    "                       %(epoch+1, NUM_EPOCHS, batch_idx, \n",
    "                         len(train_loader), cost))\n",
    "\n",
    "    \n",
    "        with torch.set_grad_enabled(False): # save memory during inference\n",
    "            print('Epoch: %03d/%03d | Train: %.3f%%' % (\n",
    "                  epoch+1, NUM_EPOCHS, \n",
    "                  compute_accuracy(model, train_loader, device=DEVICE)))\n",
    "            \n",
    "            cost = compute_epoch_loss(model, train_loader)\n",
    "            epoch_cost.append(cost)\n",
    "\n",
    "        print('Time elapsed: %.2f min' % ((time.time() - start_time)/60))\n",
    "\n",
    "    print('Total Training Time: %.2f min' % ((time.time() - start_time)/60))\n",
    "\n",
    "\n",
    "    with torch.set_grad_enabled(False): # save memory during inference\n",
    "        print('Test accuracy: %.2f%%' % (compute_accuracy(model, test_loader, device=DEVICE)))\n",
    "\n",
    "    print('Total Time: %.2f min' % ((time.time() - start_time)/60))\n",
    "    \n",
    "    return minibatch_cost, epoch_cost\n",
    "    \n",
    "\n",
    "minibatch_cost, epoch_cost = train(model1, train_loader, test_loader)\n",
    "\n",
    "\n",
    "plt.plot(range(len(minibatch_cost)), minibatch_cost)\n",
    "plt.ylabel('Cross Entropy')\n",
    "plt.xlabel('Minibatch')\n",
    "plt.show()\n",
    "\n",
    "plt.plot(range(len(epoch_cost)), epoch_cost)\n",
    "plt.ylabel('Cross Entropy')\n",
    "plt.xlabel('Epoch')\n",
    "plt.show()"
   ]
  },
  {
   "cell_type": "markdown",
   "metadata": {
    "colab_type": "text",
    "id": "70WbCCfL0YM_"
   },
   "source": []
  },
  {
   "cell_type": "code",
   "execution_count": 0,
   "metadata": {
    "colab": {},
    "colab_type": "code",
    "id": "8PVM6R6TUwun"
   },
   "outputs": [],
   "source": [
    "del model1  # to save memory if you don't use it anymore"
   ]
  },
  {
   "cell_type": "markdown",
   "metadata": {
    "colab_type": "text",
    "id": "0yVkalDqUwuo"
   },
   "source": [
    "<br>\n",
    "<br>"
   ]
  },
  {
   "cell_type": "markdown",
   "metadata": {
    "colab_type": "text",
    "id": "nPS_gz_1Uwuo"
   },
   "source": [
    "## 2) Adding Dropout"
   ]
  },
  {
   "cell_type": "markdown",
   "metadata": {
    "colab_type": "text",
    "id": "ukOik77LUwup"
   },
   "source": [
    "In this second part, your task is now to add dropout layers to reduce overfitting. You can copy&paste your architecture from above and make the appropriate modifications. In particular,\n",
    "\n",
    "- place a Dropout2d (this is also referred to as \"spatial dropout\"; will be explained in the lecture) before each maxpooling layer with dropout probability p=0.2,\n",
    "- place a regular dropout after each fully connected layer with probability p=0.5, except for the last (output) layer.\n",
    "\n",
    "The architecture is as follows (changes, compared to the previous section, are highlighted in red):\n",
    "\n",
    "![](architecture-2.png)"
   ]
  },
  {
   "cell_type": "code",
   "execution_count": 8,
   "metadata": {
    "colab": {
     "base_uri": "https://localhost:8080/",
     "height": 1960
    },
    "colab_type": "code",
    "id": "bFmxYtLwUwup",
    "outputId": "db8f965f-40e2-47ac-fd4b-737ddfd2a0fe"
   },
   "outputs": [
    {
     "name": "stdout",
     "output_type": "stream",
     "text": [
      "Epoch: 001/020 | Batch 0000/0196 | Cost: 2.3042\n",
      "Epoch: 001/020 | Batch 0150/0196 | Cost: 1.7490\n",
      "Epoch: 001/020 | Train: 38.212%\n",
      "Time elapsed: 1.33 min\n",
      "Epoch: 002/020 | Batch 0000/0196 | Cost: 1.6490\n",
      "Epoch: 002/020 | Batch 0150/0196 | Cost: 1.3989\n",
      "Epoch: 002/020 | Train: 49.364%\n",
      "Time elapsed: 2.65 min\n",
      "Epoch: 003/020 | Batch 0000/0196 | Cost: 1.3361\n",
      "Epoch: 003/020 | Batch 0150/0196 | Cost: 1.2423\n",
      "Epoch: 003/020 | Train: 56.306%\n",
      "Time elapsed: 3.98 min\n",
      "Epoch: 004/020 | Batch 0000/0196 | Cost: 1.0956\n",
      "Epoch: 004/020 | Batch 0150/0196 | Cost: 1.0922\n",
      "Epoch: 004/020 | Train: 60.054%\n",
      "Time elapsed: 5.31 min\n",
      "Epoch: 005/020 | Batch 0000/0196 | Cost: 1.1398\n",
      "Epoch: 005/020 | Batch 0150/0196 | Cost: 1.0589\n",
      "Epoch: 005/020 | Train: 64.124%\n",
      "Time elapsed: 6.63 min\n",
      "Epoch: 006/020 | Batch 0000/0196 | Cost: 0.7949\n",
      "Epoch: 006/020 | Batch 0150/0196 | Cost: 0.9536\n",
      "Epoch: 006/020 | Train: 66.024%\n",
      "Time elapsed: 7.96 min\n",
      "Epoch: 007/020 | Batch 0000/0196 | Cost: 1.0128\n",
      "Epoch: 007/020 | Batch 0150/0196 | Cost: 0.9872\n",
      "Epoch: 007/020 | Train: 67.250%\n",
      "Time elapsed: 9.29 min\n",
      "Epoch: 008/020 | Batch 0000/0196 | Cost: 0.9866\n",
      "Epoch: 008/020 | Batch 0150/0196 | Cost: 0.8728\n",
      "Epoch: 008/020 | Train: 69.210%\n",
      "Time elapsed: 10.62 min\n",
      "Epoch: 009/020 | Batch 0000/0196 | Cost: 1.1689\n",
      "Epoch: 009/020 | Batch 0150/0196 | Cost: 0.9406\n",
      "Epoch: 009/020 | Train: 71.292%\n",
      "Time elapsed: 11.95 min\n",
      "Epoch: 010/020 | Batch 0000/0196 | Cost: 0.8432\n",
      "Epoch: 010/020 | Batch 0150/0196 | Cost: 0.8139\n",
      "Epoch: 010/020 | Train: 73.526%\n",
      "Time elapsed: 13.28 min\n",
      "Epoch: 011/020 | Batch 0000/0196 | Cost: 0.7862\n",
      "Epoch: 011/020 | Batch 0150/0196 | Cost: 0.7716\n",
      "Epoch: 011/020 | Train: 73.634%\n",
      "Time elapsed: 14.62 min\n",
      "Epoch: 012/020 | Batch 0000/0196 | Cost: 0.9400\n",
      "Epoch: 012/020 | Batch 0150/0196 | Cost: 0.7785\n",
      "Epoch: 012/020 | Train: 76.262%\n",
      "Time elapsed: 15.95 min\n",
      "Epoch: 013/020 | Batch 0000/0196 | Cost: 0.7016\n",
      "Epoch: 013/020 | Batch 0150/0196 | Cost: 0.8921\n",
      "Epoch: 013/020 | Train: 75.440%\n",
      "Time elapsed: 17.28 min\n",
      "Epoch: 014/020 | Batch 0000/0196 | Cost: 0.7077\n",
      "Epoch: 014/020 | Batch 0150/0196 | Cost: 0.7372\n",
      "Epoch: 014/020 | Train: 77.540%\n",
      "Time elapsed: 18.61 min\n",
      "Epoch: 015/020 | Batch 0000/0196 | Cost: 0.7214\n",
      "Epoch: 015/020 | Batch 0150/0196 | Cost: 0.6983\n",
      "Epoch: 015/020 | Train: 77.968%\n",
      "Time elapsed: 19.94 min\n",
      "Epoch: 016/020 | Batch 0000/0196 | Cost: 0.6569\n",
      "Epoch: 016/020 | Batch 0150/0196 | Cost: 0.6602\n",
      "Epoch: 016/020 | Train: 78.918%\n",
      "Time elapsed: 21.27 min\n",
      "Epoch: 017/020 | Batch 0000/0196 | Cost: 0.6190\n",
      "Epoch: 017/020 | Batch 0150/0196 | Cost: 0.5871\n",
      "Epoch: 017/020 | Train: 79.172%\n",
      "Time elapsed: 22.60 min\n",
      "Epoch: 018/020 | Batch 0000/0196 | Cost: 0.6846\n",
      "Epoch: 018/020 | Batch 0150/0196 | Cost: 0.6252\n",
      "Epoch: 018/020 | Train: 80.954%\n",
      "Time elapsed: 23.93 min\n",
      "Epoch: 019/020 | Batch 0000/0196 | Cost: 0.6445\n",
      "Epoch: 019/020 | Batch 0150/0196 | Cost: 0.7160\n",
      "Epoch: 019/020 | Train: 80.984%\n",
      "Time elapsed: 25.25 min\n",
      "Epoch: 020/020 | Batch 0000/0196 | Cost: 0.4853\n",
      "Epoch: 020/020 | Batch 0150/0196 | Cost: 0.5947\n",
      "Epoch: 020/020 | Train: 80.930%\n",
      "Time elapsed: 26.59 min\n",
      "Total Training Time: 26.59 min\n",
      "Test accuracy: 69.52%\n",
      "Total Time: 26.65 min\n"
     ]
    },
    {
     "data": {
      "image/png": "[encoded data removed]",
      "text/plain": [
       "<Figure size 432x288 with 1 Axes>"
      ]
     },
     "metadata": {
      "tags": []
     },
     "output_type": "display_data"
    },
    {
     "data": {
      "image/png": "[encoded data removed]",
      "text/plain": [
       "<Figure size 432x288 with 1 Axes>"
      ]
     },
     "metadata": {
      "tags": []
     },
     "output_type": "display_data"
    }
   ],
   "source": [
    "##########################\n",
    "### MODEL\n",
    "##########################\n",
    "\n",
    "class ConvNet2(nn.Module):\n",
    "\n",
    "    def __init__(self, num_classes=10):\n",
    "        super(ConvNet2, self).__init__()\n",
    "        \n",
    "\n",
    "        self.conv_1 =  nn.Conv2d(3, 64,    kernel_size=5, stride=1, padding=2)\n",
    "        self.pool_1 = torch.nn.MaxPool2d(kernel_size=2,\n",
    "                                         stride=2,\n",
    "                                         padding=0)    \n",
    "\n",
    "\n",
    "        self.conv_2 =  nn.Conv2d(64, 192,    kernel_size=5, stride=1, padding=2)  \n",
    "        self.pool_2 = torch.nn.MaxPool2d(kernel_size=(2, 2),\n",
    "                                         stride=(2, 2),\n",
    "                                         padding=0)   \n",
    "        \n",
    "\n",
    "        self.conv_3 =  nn.Conv2d(192, 384, kernel_size=3, stride=1, padding=1)\n",
    "        self.pool_3 = torch.nn.MaxPool2d(kernel_size=2,\n",
    "                                         stride=2) \n",
    "\n",
    "        self.conv_4 =  nn.Conv2d(384, 256, kernel_size=5, stride=1, padding=2) \n",
    "        self.pool_4 = torch.nn.MaxPool2d(kernel_size=2,\n",
    "                                         stride=2)              \n",
    "\n",
    "        self.conv_5 =  nn.Conv2d(256, 256, kernel_size=5, stride=1, padding=2)\n",
    "        self.pool_5 = torch.nn.MaxPool2d(kernel_size=2,\n",
    "                                         stride=2)\n",
    "                                                           \n",
    "       #2 fully-connected layers\n",
    "        self.linear_1 = nn.Linear(256, 4096)\n",
    "        self.linear_2 = nn.Linear(4096, 4096)\n",
    "        \n",
    "        #output layer\n",
    "        self.linear_3 = nn.Linear(4096, num_classes)  \n",
    "        \n",
    "\n",
    "    def forward(self, x):\n",
    "        \n",
    "        # ... IMPLEMENT FORWARD PASS ...\n",
    "        out = self.conv_1(x)\n",
    "        out = F.dropout2d(out, 0.2)\n",
    "        out = F.relu(out)\n",
    "        out = self.pool_1(out)\n",
    "        \n",
    "        out = self.conv_2(out)\n",
    "        out = F.dropout2d(out, 0.2)\n",
    "        out = F.relu(out)\n",
    "        out = self.pool_2(out)\n",
    "\n",
    "        \n",
    "        out = self.conv_3(out)\n",
    "        out = F.dropout2d(out, 0.2)\n",
    "        out = F.relu(out)\n",
    "        out = self.pool_3(out)\n",
    "        \n",
    "        out = self.conv_4(out)\n",
    "        out = F.dropout2d(out, 0.2)\n",
    "        out = F.relu(out)\n",
    "        out = self.pool_4(out)\n",
    "        \n",
    "        out = self.conv_5(out)\n",
    "        out = F.dropout2d(out, 0.2)\n",
    "        out = F.relu(out)\n",
    "        out = self.pool_5(out)\n",
    "        \n",
    "        out = out.view(out.size(0), -1)\n",
    "        \n",
    "        out = self.linear_1(out)\n",
    "        out = F.dropout(out, 0.5)\n",
    "        out = F.relu(out)\n",
    "        \n",
    "        out = self.linear_2(out)\n",
    "        out = F.dropout(out, 0.5)\n",
    "        out = F.relu(out)\n",
    "\n",
    "        \n",
    "        logits = self.linear_3(out)\n",
    "        probas = F.softmax(logits, dim=1)\n",
    "        return logits, probas\n",
    "\n",
    "    \n",
    "torch.manual_seed(RANDOM_SEED)\n",
    "\n",
    "model2 = ConvNet2(NUM_CLASSES)\n",
    "model2.to(DEVICE)\n",
    "\n",
    "optimizer = torch.optim.Adam(model2.parameters(), lr=LEARNING_RATE)\n",
    "\n",
    "minibatch_cost, epoch_cost = train(model2, train_loader, test_loader)\n",
    "\n",
    "\n",
    "plt.plot(range(len(minibatch_cost)), minibatch_cost)\n",
    "plt.ylabel('Cross Entropy')\n",
    "plt.xlabel('Minibatch')\n",
    "plt.show()\n",
    "\n",
    "plt.plot(range(len(epoch_cost)), epoch_cost)\n",
    "plt.ylabel('Cross Entropy')\n",
    "plt.xlabel('Epoch')\n",
    "plt.show()"
   ]
  },
  {
   "cell_type": "code",
   "execution_count": 0,
   "metadata": {
    "colab": {},
    "colab_type": "code",
    "id": "rLYPuD8qUwuq"
   },
   "outputs": [],
   "source": [
    "del model2  # to save memory if you don't use it anymore"
   ]
  },
  {
   "cell_type": "markdown",
   "metadata": {
    "colab_type": "text",
    "id": "COdW5hvbUwus"
   },
   "source": [
    "<br>\n",
    "<br>"
   ]
  },
  {
   "cell_type": "markdown",
   "metadata": {
    "colab_type": "text",
    "id": "hYJByG0_Uwus"
   },
   "source": [
    "## 3) Add BatchNorm"
   ]
  },
  {
   "cell_type": "markdown",
   "metadata": {
    "colab_type": "text",
    "id": "_R3PQtVnUwut"
   },
   "source": [
    "In this 3rd part, you are now going to add BatchNorm layers to further improve the performance of the network. This use BatchNorm2D for the convolutional layers and BatchNorm1D for the fully connected layers.\n",
    "\n",
    "\n",
    "The architecture is as follows (changes, compared to the previous section, are highlighted in red):\n",
    "\n",
    "![](architecture-3.png)"
   ]
  },
  {
   "cell_type": "code",
   "execution_count": 0,
   "metadata": {
    "colab": {},
    "colab_type": "code",
    "id": "U5ga8dQfUwuu",
    "outputId": "13d29e8a-4d54-46ba-dac5-18a6afbfb1fc"
   },
   "outputs": [
    {
     "name": "stdout",
     "output_type": "stream",
     "text": [
      "Epoch: 001/020 | Batch 0000/0196 | Cost: 2.3762\n",
      "Epoch: 001/020 | Batch 0150/0196 | Cost: 1.4579\n",
      "Epoch: 001/020 | Train: 45.912%\n",
      "Time elapsed: 0.44 min\n",
      "Epoch: 002/020 | Batch 0000/0196 | Cost: 1.3163\n",
      "Epoch: 002/020 | Batch 0150/0196 | Cost: 1.1343\n",
      "Epoch: 002/020 | Train: 59.652%\n",
      "Time elapsed: 0.86 min\n",
      "Epoch: 003/020 | Batch 0000/0196 | Cost: 0.9591\n",
      "Epoch: 003/020 | Batch 0150/0196 | Cost: 0.9545\n",
      "Epoch: 003/020 | Train: 63.444%\n",
      "Time elapsed: 1.28 min\n",
      "Epoch: 004/020 | Batch 0000/0196 | Cost: 0.9049\n",
      "Epoch: 004/020 | Batch 0150/0196 | Cost: 0.7994\n",
      "Epoch: 004/020 | Train: 70.602%\n",
      "Time elapsed: 1.72 min\n",
      "Epoch: 005/020 | Batch 0000/0196 | Cost: 0.7609\n",
      "Epoch: 005/020 | Batch 0150/0196 | Cost: 0.7285\n",
      "Epoch: 005/020 | Train: 71.322%\n",
      "Time elapsed: 2.14 min\n",
      "Epoch: 006/020 | Batch 0000/0196 | Cost: 0.6999\n",
      "Epoch: 006/020 | Batch 0150/0196 | Cost: 0.6725\n",
      "Epoch: 006/020 | Train: 73.308%\n",
      "Time elapsed: 2.57 min\n",
      "Epoch: 007/020 | Batch 0000/0196 | Cost: 0.6958\n",
      "Epoch: 007/020 | Batch 0150/0196 | Cost: 0.6218\n",
      "Epoch: 007/020 | Train: 80.228%\n",
      "Time elapsed: 3.00 min\n",
      "Epoch: 008/020 | Batch 0000/0196 | Cost: 0.5547\n",
      "Epoch: 008/020 | Batch 0150/0196 | Cost: 0.5587\n",
      "Epoch: 008/020 | Train: 80.582%\n",
      "Time elapsed: 3.42 min\n",
      "Epoch: 009/020 | Batch 0000/0196 | Cost: 0.4456\n",
      "Epoch: 009/020 | Batch 0150/0196 | Cost: 0.4322\n",
      "Epoch: 009/020 | Train: 82.676%\n",
      "Time elapsed: 3.84 min\n",
      "Epoch: 010/020 | Batch 0000/0196 | Cost: 0.4228\n",
      "Epoch: 010/020 | Batch 0150/0196 | Cost: 0.4844\n",
      "Epoch: 010/020 | Train: 85.756%\n",
      "Time elapsed: 4.28 min\n",
      "Epoch: 011/020 | Batch 0000/0196 | Cost: 0.4141\n",
      "Epoch: 011/020 | Batch 0150/0196 | Cost: 0.4425\n",
      "Epoch: 011/020 | Train: 86.986%\n",
      "Time elapsed: 4.70 min\n",
      "Epoch: 012/020 | Batch 0000/0196 | Cost: 0.3536\n",
      "Epoch: 012/020 | Batch 0150/0196 | Cost: 0.3801\n",
      "Epoch: 012/020 | Train: 86.406%\n",
      "Time elapsed: 5.12 min\n",
      "Epoch: 013/020 | Batch 0000/0196 | Cost: 0.3193\n",
      "Epoch: 013/020 | Batch 0150/0196 | Cost: 0.4117\n",
      "Epoch: 013/020 | Train: 86.986%\n",
      "Time elapsed: 5.53 min\n",
      "Epoch: 014/020 | Batch 0000/0196 | Cost: 0.2630\n",
      "Epoch: 014/020 | Batch 0150/0196 | Cost: 0.3339\n",
      "Epoch: 014/020 | Train: 91.110%\n",
      "Time elapsed: 5.95 min\n",
      "Epoch: 015/020 | Batch 0000/0196 | Cost: 0.1824\n",
      "Epoch: 015/020 | Batch 0150/0196 | Cost: 0.3032\n",
      "Epoch: 015/020 | Train: 91.922%\n",
      "Time elapsed: 6.37 min\n",
      "Epoch: 016/020 | Batch 0000/0196 | Cost: 0.2319\n",
      "Epoch: 016/020 | Batch 0150/0196 | Cost: 0.2145\n",
      "Epoch: 016/020 | Train: 90.286%\n",
      "Time elapsed: 6.79 min\n",
      "Epoch: 017/020 | Batch 0000/0196 | Cost: 0.1644\n",
      "Epoch: 017/020 | Batch 0150/0196 | Cost: 0.4053\n",
      "Epoch: 017/020 | Train: 90.264%\n",
      "Time elapsed: 7.21 min\n",
      "Epoch: 018/020 | Batch 0000/0196 | Cost: 0.2064\n",
      "Epoch: 018/020 | Batch 0150/0196 | Cost: 0.2639\n",
      "Epoch: 018/020 | Train: 94.308%\n",
      "Time elapsed: 7.64 min\n",
      "Epoch: 019/020 | Batch 0000/0196 | Cost: 0.1786\n",
      "Epoch: 019/020 | Batch 0150/0196 | Cost: 0.1785\n",
      "Epoch: 019/020 | Train: 94.786%\n",
      "Time elapsed: 8.06 min\n",
      "Epoch: 020/020 | Batch 0000/0196 | Cost: 0.1189\n",
      "Epoch: 020/020 | Batch 0150/0196 | Cost: 0.1427\n",
      "Epoch: 020/020 | Train: 94.230%\n",
      "Time elapsed: 8.50 min\n",
      "Total Training Time: 8.50 min\n",
      "Test accuracy: 76.94%\n",
      "Total Time: 8.52 min\n"
     ]
    },
    {
     "data": {
      "image/png": "[encoded data removed]",
      "text/plain": [
       "<Figure size 432x288 with 1 Axes>"
      ]
     },
     "metadata": {
      "tags": []
     },
     "output_type": "display_data"
    },
    {
     "data": {
      "image/png": "[encoded data removed]",
      "text/plain": [
       "<Figure size 432x288 with 1 Axes>"
      ]
     },
     "metadata": {
      "tags": []
     },
     "output_type": "display_data"
    }
   ],
   "source": [
    "##########################\n",
    "### MODEL\n",
    "##########################\n",
    "\n",
    "class ConvNet3(nn.Module):\n",
    "\n",
    "    def __init__(self, num_classes=10):\n",
    "        super(ConvNet3, self).__init__()\n",
    "        \n",
    "\n",
    "        self.conv_1 =  nn.Conv2d(3, 64,    kernel_size=5, stride=1, padding=2)\n",
    "        self.conv_1_bn = nn.BatchNorm2d(64)\n",
    "        self.pool_1 = torch.nn.MaxPool2d(kernel_size=2,\n",
    "                                         stride=2,\n",
    "                                         padding=0)    \n",
    "\n",
    "\n",
    "        self.conv_2 =  nn.Conv2d(64, 192,    kernel_size=5, stride=1, padding=2)  \n",
    "        self.conv_2_bn = nn.BatchNorm2d(192)\n",
    "        self.pool_2 = torch.nn.MaxPool2d(kernel_size=(2, 2),\n",
    "                                         stride=(2, 2),\n",
    "                                         padding=0)   \n",
    "        \n",
    "\n",
    "        self.conv_3 =  nn.Conv2d(192, 384, kernel_size=3, stride=1, padding=1)\n",
    "        self.conv_3_bn = nn.BatchNorm2d(384)\n",
    "        self.pool_3 = torch.nn.MaxPool2d(kernel_size=2,\n",
    "                                         stride=2) \n",
    "\n",
    "        self.conv_4 =  nn.Conv2d(384, 256, kernel_size=5, stride=1, padding=2)\n",
    "        self.conv_4_bn = nn.BatchNorm2d(256)\n",
    "        self.pool_4 = torch.nn.MaxPool2d(kernel_size=2,\n",
    "                                         stride=2)              \n",
    "\n",
    "        self.conv_5 =  nn.Conv2d(256, 256, kernel_size=5, stride=1, padding=2)\n",
    "        self.conv_5_bn = nn.BatchNorm2d(256)\n",
    "        self.pool_5 = torch.nn.MaxPool2d(kernel_size=2,\n",
    "                                         stride=2)\n",
    "                                                           \n",
    "       #2 fully-connected layers\n",
    "        self.linear_1 = nn.Linear(256, 4096)\n",
    "        self.linear_1_bn = nn.BatchNorm1d(4096)\n",
    "        self.linear_2 = nn.Linear(4096, 4096)\n",
    "        self.linear_2_bn = nn.BatchNorm1d(4096)\n",
    "        \n",
    "        #output layer\n",
    "        self.linear_3 = nn.Linear(4096, num_classes)  \n",
    "        \n",
    "\n",
    "    def forward(self, x):\n",
    "        \n",
    "        # ... IMPLEMENT FORWARD PASS ...\n",
    "        out = self.conv_1(x)\n",
    "        out = self.conv_1_bn(out)\n",
    "        out = F.dropout2d(out, 0.2)\n",
    "        out = F.relu(out)\n",
    "        out = self.pool_1(out)\n",
    "        \n",
    "        out = self.conv_2(out)\n",
    "        out = self.conv_2_bn(out)\n",
    "        out = F.dropout2d(out, 0.2)\n",
    "        out = F.relu(out)\n",
    "        out = self.pool_2(out)\n",
    "\n",
    "        \n",
    "        out = self.conv_3(out)\n",
    "        out = self.conv_3_bn(out)\n",
    "        out = F.dropout2d(out, 0.2)\n",
    "        out = F.relu(out)\n",
    "        out = self.pool_3(out)\n",
    "        \n",
    "        out = self.conv_4(out)\n",
    "        out = self.conv_4_bn(out)\n",
    "        out = F.dropout2d(out, 0.2)\n",
    "        out = F.relu(out)\n",
    "        out = self.pool_4(out)\n",
    "        \n",
    "        out = self.conv_5(out)\n",
    "        out = self.conv_5_bn(out)\n",
    "        out = F.dropout2d(out, 0.2)\n",
    "        out = F.relu(out)\n",
    "        out = self.pool_5(out)\n",
    "        \n",
    "        out = out.view(out.size(0), -1)\n",
    "        \n",
    "        out = self.linear_1(out)\n",
    "        out = self.linear_1_bn(out)\n",
    "        out = F.dropout(out, 0.5)\n",
    "        out = F.relu(out)\n",
    "        \n",
    "        out = self.linear_2(out)\n",
    "        out = self.linear_2_bn(out)\n",
    "        out = F.dropout(out, 0.5)\n",
    "        out = F.relu(out)\n",
    "\n",
    "        \n",
    "        logits = self.linear_3(out)\n",
    "        probas = F.softmax(logits, dim=1)\n",
    "        return logits, probas\n",
    "\n",
    "\n",
    "    \n",
    "torch.manual_seed(RANDOM_SEED)\n",
    "\n",
    "model3 = ConvNet3(NUM_CLASSES)\n",
    "model3.to(DEVICE)\n",
    "\n",
    "optimizer = torch.optim.Adam(model3.parameters(), lr=LEARNING_RATE)\n",
    "\n",
    "minibatch_cost, epoch_cost = train(model3, train_loader, test_loader)\n",
    "\n",
    "\n",
    "plt.plot(range(len(minibatch_cost)), minibatch_cost)\n",
    "plt.ylabel('Cross Entropy')\n",
    "plt.xlabel('Minibatch')\n",
    "plt.show()\n",
    "\n",
    "plt.plot(range(len(epoch_cost)), epoch_cost)\n",
    "plt.ylabel('Cross Entropy')\n",
    "plt.xlabel('Epoch')\n",
    "plt.show()"
   ]
  },
  {
   "cell_type": "code",
   "execution_count": 11,
   "metadata": {
    "colab": {
     "base_uri": "https://localhost:8080/",
     "height": 164
    },
    "colab_type": "code",
    "id": "TMfe9F6NUwuv",
    "outputId": "d917b972-fd29-4fc9-9e1d-517856e914c4"
   },
   "outputs": [
    {
     "ename": "NameError",
     "evalue": "ignored",
     "output_type": "error",
     "traceback": [
      "\u001b[0;31m---------------------------------------------------------------------------\u001b[0m",
      "\u001b[0;31mNameError\u001b[0m                                 Traceback (most recent call last)",
      "\u001b[0;32m<ipython-input-11-0ccf517bd5bb>\u001b[0m in \u001b[0;36m<module>\u001b[0;34m()\u001b[0m\n\u001b[0;32m----> 1\u001b[0;31m \u001b[0;32mdel\u001b[0m \u001b[0mmodel3\u001b[0m  \u001b[0;31m# to save memory if you don't use it anymore\u001b[0m\u001b[0;34m\u001b[0m\u001b[0;34m\u001b[0m\u001b[0m\n\u001b[0m",
      "\u001b[0;31mNameError\u001b[0m: name 'model3' is not defined"
     ]
    }
   ],
   "source": [
    "del model3  # to save memory if you don't use it anymore"
   ]
  },
  {
   "cell_type": "markdown",
   "metadata": {
    "colab_type": "text",
    "id": "8YzyLagbUwuw"
   },
   "source": [
    "<br>\n",
    "<br>"
   ]
  },
  {
   "cell_type": "markdown",
   "metadata": {
    "colab_type": "text",
    "id": "vsO7D1TvUwux"
   },
   "source": [
    "## 4) Going All-Convolutional"
   ]
  },
  {
   "cell_type": "markdown",
   "metadata": {
    "colab_type": "text",
    "id": "acHzSK1GUwux"
   },
   "source": [
    "In this 4th part, your task is to remove all maxpooling layers and replace the fully-connected layers by convolutional layers. Note that the number of elements of the activation tensors in the hidden layers should not change. I.e., when you remove the max-pooling layers, you need to increase the stride of the convolutional layers from 1 to 2 to achieve the same scaling. Furthermore, you can replace a fully-connected conmvolutional layer by a convolutional layer using stride=1 and a kernel with height and width equal to 1.\n",
    "\n",
    "The new architecture is as follows (changes, compared to the previous section, are highlighted in red):\n",
    "\n",
    "![](architecture-4.png)"
   ]
  },
  {
   "cell_type": "code",
   "execution_count": 12,
   "metadata": {
    "colab": {
     "base_uri": "https://localhost:8080/",
     "height": 1960
    },
    "colab_type": "code",
    "id": "wT1QAYD0Uwuy",
    "outputId": "7710f1ac-3344-4b9b-c8d6-8a3f24012c30"
   },
   "outputs": [
    {
     "name": "stdout",
     "output_type": "stream",
     "text": [
      "Epoch: 001/020 | Batch 0000/0196 | Cost: 2.3857\n",
      "Epoch: 001/020 | Batch 0150/0196 | Cost: 1.4317\n",
      "Epoch: 001/020 | Train: 43.666%\n",
      "Time elapsed: 1.20 min\n",
      "Epoch: 002/020 | Batch 0000/0196 | Cost: 1.3441\n",
      "Epoch: 002/020 | Batch 0150/0196 | Cost: 1.2044\n",
      "Epoch: 002/020 | Train: 55.046%\n",
      "Time elapsed: 2.42 min\n",
      "Epoch: 003/020 | Batch 0000/0196 | Cost: 1.1310\n",
      "Epoch: 003/020 | Batch 0150/0196 | Cost: 1.0768\n",
      "Epoch: 003/020 | Train: 60.726%\n",
      "Time elapsed: 3.63 min\n",
      "Epoch: 004/020 | Batch 0000/0196 | Cost: 0.9992\n",
      "Epoch: 004/020 | Batch 0150/0196 | Cost: 0.9782\n",
      "Epoch: 004/020 | Train: 66.792%\n",
      "Time elapsed: 4.85 min\n",
      "Epoch: 005/020 | Batch 0000/0196 | Cost: 0.8480\n",
      "Epoch: 005/020 | Batch 0150/0196 | Cost: 0.7797\n",
      "Epoch: 005/020 | Train: 62.816%\n",
      "Time elapsed: 6.06 min\n",
      "Epoch: 006/020 | Batch 0000/0196 | Cost: 0.8063\n",
      "Epoch: 006/020 | Batch 0150/0196 | Cost: 0.8152\n",
      "Epoch: 006/020 | Train: 73.336%\n",
      "Time elapsed: 7.28 min\n",
      "Epoch: 007/020 | Batch 0000/0196 | Cost: 0.7940\n",
      "Epoch: 007/020 | Batch 0150/0196 | Cost: 0.6902\n",
      "Epoch: 007/020 | Train: 78.236%\n",
      "Time elapsed: 8.50 min\n",
      "Epoch: 008/020 | Batch 0000/0196 | Cost: 0.6357\n",
      "Epoch: 008/020 | Batch 0150/0196 | Cost: 0.5660\n",
      "Epoch: 008/020 | Train: 80.496%\n",
      "Time elapsed: 9.71 min\n",
      "Epoch: 009/020 | Batch 0000/0196 | Cost: 0.5059\n",
      "Epoch: 009/020 | Batch 0150/0196 | Cost: 0.5251\n",
      "Epoch: 009/020 | Train: 82.436%\n",
      "Time elapsed: 10.93 min\n",
      "Epoch: 010/020 | Batch 0000/0196 | Cost: 0.6157\n",
      "Epoch: 010/020 | Batch 0150/0196 | Cost: 0.5667\n",
      "Epoch: 010/020 | Train: 83.130%\n",
      "Time elapsed: 12.17 min\n",
      "Epoch: 011/020 | Batch 0000/0196 | Cost: 0.4265\n",
      "Epoch: 011/020 | Batch 0150/0196 | Cost: 0.4949\n",
      "Epoch: 011/020 | Train: 85.082%\n",
      "Time elapsed: 13.41 min\n",
      "Epoch: 012/020 | Batch 0000/0196 | Cost: 0.3706\n",
      "Epoch: 012/020 | Batch 0150/0196 | Cost: 0.4684\n",
      "Epoch: 012/020 | Train: 83.052%\n",
      "Time elapsed: 14.63 min\n",
      "Epoch: 013/020 | Batch 0000/0196 | Cost: 0.3930\n",
      "Epoch: 013/020 | Batch 0150/0196 | Cost: 0.4745\n",
      "Epoch: 013/020 | Train: 88.002%\n",
      "Time elapsed: 15.86 min\n",
      "Epoch: 014/020 | Batch 0000/0196 | Cost: 0.3188\n",
      "Epoch: 014/020 | Batch 0150/0196 | Cost: 0.3382\n",
      "Epoch: 014/020 | Train: 85.456%\n",
      "Time elapsed: 17.06 min\n",
      "Epoch: 015/020 | Batch 0000/0196 | Cost: 0.2573\n",
      "Epoch: 015/020 | Batch 0150/0196 | Cost: 0.3609\n",
      "Epoch: 015/020 | Train: 82.438%\n",
      "Time elapsed: 18.29 min\n",
      "Epoch: 016/020 | Batch 0000/0196 | Cost: 0.2821\n",
      "Epoch: 016/020 | Batch 0150/0196 | Cost: 0.2064\n",
      "Epoch: 016/020 | Train: 91.236%\n",
      "Time elapsed: 19.53 min\n",
      "Epoch: 017/020 | Batch 0000/0196 | Cost: 0.2012\n",
      "Epoch: 017/020 | Batch 0150/0196 | Cost: 0.2845\n",
      "Epoch: 017/020 | Train: 90.964%\n",
      "Time elapsed: 20.76 min\n",
      "Epoch: 018/020 | Batch 0000/0196 | Cost: 0.1168\n",
      "Epoch: 018/020 | Batch 0150/0196 | Cost: 0.2623\n",
      "Epoch: 018/020 | Train: 89.656%\n",
      "Time elapsed: 22.00 min\n",
      "Epoch: 019/020 | Batch 0000/0196 | Cost: 0.2219\n",
      "Epoch: 019/020 | Batch 0150/0196 | Cost: 0.1939\n",
      "Epoch: 019/020 | Train: 93.082%\n",
      "Time elapsed: 23.23 min\n",
      "Epoch: 020/020 | Batch 0000/0196 | Cost: 0.2126\n",
      "Epoch: 020/020 | Batch 0150/0196 | Cost: 0.1935\n",
      "Epoch: 020/020 | Train: 93.440%\n",
      "Time elapsed: 24.47 min\n",
      "Total Training Time: 24.47 min\n",
      "Test accuracy: 69.60%\n",
      "Total Time: 24.51 min\n"
     ]
    },
    {
     "data": {
      "image/png": "[encoded data removed]",
      "text/plain": [
       "<Figure size 432x288 with 1 Axes>"
      ]
     },
     "metadata": {
      "tags": []
     },
     "output_type": "display_data"
    },
    {
     "data": {
      "image/png": "[encoded data removed]",
      "text/plain": [
       "<Figure size 432x288 with 1 Axes>"
      ]
     },
     "metadata": {
      "tags": []
     },
     "output_type": "display_data"
    }
   ],
   "source": [
    "##########################\n",
    "### MODEL\n",
    "##########################\n",
    "\n",
    "class ConvNet4(nn.Module):\n",
    "\n",
    "    def __init__(self, num_classes=10):\n",
    "        super(ConvNet4, self).__init__()\n",
    "        \n",
    "\n",
    "        self.conv_1 =  nn.Conv2d(3, 64,    kernel_size=5, stride=2, padding=2)\n",
    "        self.conv_1_bn = nn.BatchNorm2d(64)\n",
    "\n",
    "\n",
    "        self.conv_2 =  nn.Conv2d(64, 192,    kernel_size=5, stride=2, padding=2)  \n",
    "        self.conv_2_bn = nn.BatchNorm2d(192)\n",
    "\n",
    "        \n",
    "\n",
    "        self.conv_3 =  nn.Conv2d(192, 384, kernel_size=3, stride=2, padding=1)\n",
    "        self.conv_3_bn = nn.BatchNorm2d(384)\n",
    "\n",
    "\n",
    "        self.conv_4 =  nn.Conv2d(384, 256, kernel_size=5, stride=2, padding=2)\n",
    "        self.conv_4_bn = nn.BatchNorm2d(256)\n",
    "        \n",
    "\n",
    "        self.conv_5 =  nn.Conv2d(256, 256, kernel_size=5, stride=2, padding=2)\n",
    "        self.conv_5_bn = nn.BatchNorm2d(256)\n",
    "\n",
    "                                                           \n",
    "       #2 fully-connected layers\n",
    "        self.conv_6 = nn.Conv2d(256, 4096, kernel_size = 1, stride = 1)\n",
    "        self.conv_6_bn = nn.BatchNorm2d(4096)\n",
    "        \n",
    "        self.conv_7 = nn.Conv2d(4096, 4096, kernel_size = 1, stride = 1)\n",
    "        self.conv_7_bn = nn.BatchNorm2d(4096)\n",
    "        \n",
    "        #output layer\n",
    "        self.conv_8 = nn.Conv2d(4096, num_classes, kernel_size = 1, stride = 1)  \n",
    "        \n",
    "        \n",
    "\n",
    "    def forward(self, x):\n",
    "        \n",
    "        # ... IMPLEMENT FORWARD PASS ...\n",
    "        out = self.conv_1(x)\n",
    "        out = self.conv_1_bn(out)\n",
    "        out = F.dropout2d(out, 0.2)\n",
    "        out = F.relu(out)\n",
    "        \n",
    "        out = self.conv_2(out)\n",
    "        out = self.conv_2_bn(out)\n",
    "        out = F.dropout2d(out, 0.2)\n",
    "        out = F.relu(out)\n",
    "\n",
    "        \n",
    "        out = self.conv_3(out)\n",
    "        out = self.conv_3_bn(out)\n",
    "        out = F.dropout2d(out, 0.2)\n",
    "        out = F.relu(out)\n",
    "        \n",
    "        out = self.conv_4(out)\n",
    "        out = self.conv_4_bn(out)\n",
    "        out = F.dropout2d(out, 0.2)\n",
    "        out = F.relu(out)\n",
    "        \n",
    "        out = self.conv_5(out)\n",
    "        out = self.conv_5_bn(out)\n",
    "        out = F.dropout2d(out, 0.2)\n",
    "        out = F.relu(out)\n",
    "\n",
    "        \n",
    "#         out = out.view(out.size(0), -1)\n",
    "        \n",
    "        out = self.conv_6(out)\n",
    "        out = self.conv_6_bn(out)\n",
    "        out = F.dropout2d(out, 0.5)\n",
    "        out = F.relu(out)\n",
    "        \n",
    "        out = self.conv_7(out)\n",
    "        out = self.conv_7_bn(out)\n",
    "        out = F.dropout2d(out, 0.5)\n",
    "        out = F.relu(out)\n",
    "\n",
    "        \n",
    "        out = self.conv_8(out)\n",
    "        \n",
    "        logits = out.view(out.size(0), NUM_CLASSES)\n",
    "        probas = F.softmax(logits, dim=1)\n",
    "        return logits, probas\n",
    "\n",
    "    \n",
    "torch.manual_seed(RANDOM_SEED)\n",
    "\n",
    "model4 = ConvNet4(NUM_CLASSES)\n",
    "model4.to(DEVICE)\n",
    "\n",
    "optimizer = torch.optim.Adam(model4.parameters(), lr=LEARNING_RATE)\n",
    "\n",
    "minibatch_cost, epoch_cost = train(model4, train_loader, test_loader)\n",
    "\n",
    "\n",
    "plt.plot(range(len(minibatch_cost)), minibatch_cost)\n",
    "plt.ylabel('Cross Entropy')\n",
    "plt.xlabel('Minibatch')\n",
    "plt.show()\n",
    "\n",
    "plt.plot(range(len(epoch_cost)), epoch_cost)\n",
    "plt.ylabel('Cross Entropy')\n",
    "plt.xlabel('Epoch')\n",
    "plt.show()"
   ]
  },
  {
   "cell_type": "code",
   "execution_count": 0,
   "metadata": {
    "colab": {},
    "colab_type": "code",
    "id": "VSGsIlPtUwuz"
   },
   "outputs": [],
   "source": [
    "del model4"
   ]
  },
  {
   "cell_type": "markdown",
   "metadata": {
    "colab_type": "text",
    "id": "J99D7M-rUwu0"
   },
   "source": [
    "<br>\n",
    "<br>"
   ]
  },
  {
   "cell_type": "markdown",
   "metadata": {
    "colab_type": "text",
    "id": "KMNS2BK0Uwu1"
   },
   "source": [
    "## 5) Add Image Augmentation"
   ]
  },
  {
   "cell_type": "markdown",
   "metadata": {
    "colab_type": "text",
    "id": "zxt68NJLUwu1"
   },
   "source": [
    "In this last section, you should use the architecture from the previous section (section 4) but use additional image augmentation during training to improve the generalization performance. \n",
    "\n",
    "\n",
    "In particular, you should modify the `train_transform = transforms.Compose([...`) function so that it\n",
    "\n",
    "- performs a random horizontal flip with propbability 50%\n",
    "- resizes the image from 32x32 to 40x40\n",
    "- performs a 32x32 random crop from the 40x40 images\n",
    "- normalizes the pixel intensities such that they are within the range [-1, 1]\n",
    "\n",
    "The `test_transform = transforms.Compose([...` function should be modified accordingly, such that it \n",
    "\n",
    "- resizes the image from 32x32 to 40x40\n",
    "- performs a 32x32 **center** crop from the 40x40 images\n",
    "- normalizes the pixel intensities such that they are within the range [-1, 1]"
   ]
  },
  {
   "cell_type": "code",
   "execution_count": 13,
   "metadata": {
    "colab": {
     "base_uri": "https://localhost:8080/",
     "height": 1445
    },
    "colab_type": "code",
    "id": "8Ao9ChdLUwu1",
    "outputId": "485edc3b-71d3-44da-98e3-5a5be5a6114e"
   },
   "outputs": [
    {
     "name": "stdout",
     "output_type": "stream",
     "text": [
      "Files already downloaded and verified\n",
      "Epoch: 001/020 | Batch 0000/0196 | Cost: 2.3927\n",
      "Epoch: 001/020 | Batch 0150/0196 | Cost: 1.5994\n",
      "Epoch: 001/020 | Train: 42.690%\n",
      "Time elapsed: 1.44 min\n",
      "Epoch: 002/020 | Batch 0000/0196 | Cost: 1.5394\n",
      "Epoch: 002/020 | Batch 0150/0196 | Cost: 1.3958\n",
      "Epoch: 002/020 | Train: 48.244%\n",
      "Time elapsed: 2.87 min\n",
      "Epoch: 003/020 | Batch 0000/0196 | Cost: 1.3096\n",
      "Epoch: 003/020 | Batch 0150/0196 | Cost: 1.2966\n",
      "Epoch: 003/020 | Train: 54.544%\n",
      "Time elapsed: 4.30 min\n",
      "Epoch: 004/020 | Batch 0000/0196 | Cost: 1.2462\n",
      "Epoch: 004/020 | Batch 0150/0196 | Cost: 1.2307\n",
      "Epoch: 004/020 | Train: 57.440%\n",
      "Time elapsed: 5.72 min\n",
      "Epoch: 005/020 | Batch 0000/0196 | Cost: 1.1720\n",
      "Epoch: 005/020 | Batch 0150/0196 | Cost: 1.2012\n",
      "Epoch: 005/020 | Train: 60.536%\n",
      "Time elapsed: 7.14 min\n",
      "Epoch: 006/020 | Batch 0000/0196 | Cost: 1.1084\n",
      "Epoch: 006/020 | Batch 0150/0196 | Cost: 1.0342\n",
      "Epoch: 006/020 | Train: 62.552%\n",
      "Time elapsed: 8.57 min\n",
      "Epoch: 007/020 | Batch 0000/0196 | Cost: 1.1495\n",
      "Epoch: 007/020 | Batch 0150/0196 | Cost: 1.0475\n",
      "Epoch: 007/020 | Train: 64.366%\n",
      "Time elapsed: 10.01 min\n",
      "Epoch: 008/020 | Batch 0000/0196 | Cost: 0.9965\n",
      "Epoch: 008/020 | Batch 0150/0196 | Cost: 0.9235\n",
      "Epoch: 008/020 | Train: 66.912%\n",
      "Time elapsed: 11.46 min\n",
      "Epoch: 009/020 | Batch 0000/0196 | Cost: 0.9114\n",
      "Epoch: 009/020 | Batch 0150/0196 | Cost: 0.9067\n",
      "Epoch: 009/020 | Train: 68.200%\n",
      "Time elapsed: 12.90 min\n",
      "Epoch: 010/020 | Batch 0000/0196 | Cost: 0.9454\n",
      "Epoch: 010/020 | Batch 0150/0196 | Cost: 0.9446\n",
      "Epoch: 010/020 | Train: 69.480%\n",
      "Time elapsed: 14.35 min\n",
      "Epoch: 011/020 | Batch 0000/0196 | Cost: 0.8999\n",
      "Epoch: 011/020 | Batch 0150/0196 | Cost: 0.9473\n",
      "Epoch: 011/020 | Train: 70.182%\n",
      "Time elapsed: 15.79 min\n",
      "Epoch: 012/020 | Batch 0000/0196 | Cost: 0.8311\n",
      "Epoch: 012/020 | Batch 0150/0196 | Cost: 0.8732\n",
      "Epoch: 012/020 | Train: 69.878%\n",
      "Time elapsed: 17.24 min\n",
      "Epoch: 013/020 | Batch 0000/0196 | Cost: 0.8577\n",
      "Epoch: 013/020 | Batch 0150/0196 | Cost: 0.9568\n",
      "Epoch: 013/020 | Train: 71.810%\n",
      "Time elapsed: 18.68 min\n",
      "Epoch: 014/020 | Batch 0000/0196 | Cost: 0.7387\n",
      "Epoch: 014/020 | Batch 0150/0196 | Cost: 0.7981\n",
      "Epoch: 014/020 | Train: 72.044%\n",
      "Time elapsed: 20.12 min\n",
      "Epoch: 015/020 | Batch 0000/0196 | Cost: 0.8197\n",
      "Epoch: 015/020 | Batch 0150/0196 | Cost: 0.8784\n",
      "Epoch: 015/020 | Train: 73.038%\n",
      "Time elapsed: 21.56 min\n",
      "Epoch: 016/020 | Batch 0000/0196 | Cost: 0.7354\n",
      "Epoch: 016/020 | Batch 0150/0196 | Cost: 0.7484\n",
      "Epoch: 016/020 | Train: 74.010%\n",
      "Time elapsed: 22.98 min\n",
      "Epoch: 017/020 | Batch 0000/0196 | Cost: 0.6731\n",
      "Epoch: 017/020 | Batch 0150/0196 | Cost: 0.7933\n",
      "Epoch: 017/020 | Train: 74.444%\n",
      "Time elapsed: 24.39 min\n",
      "Epoch: 018/020 | Batch 0000/0196 | Cost: 0.7622\n",
      "Epoch: 018/020 | Batch 0150/0196 | Cost: 0.8934\n",
      "Epoch: 018/020 | Train: 75.080%\n",
      "Time elapsed: 25.80 min\n",
      "Epoch: 019/020 | Batch 0000/0196 | Cost: 0.7732\n",
      "Epoch: 019/020 | Batch 0150/0196 | Cost: 0.6287\n",
      "Epoch: 019/020 | Train: 75.484%\n",
      "Time elapsed: 27.23 min\n",
      "Epoch: 020/020 | Batch 0000/0196 | Cost: 0.6975\n",
      "Epoch: 020/020 | Batch 0150/0196 | Cost: 0.8844\n",
      "Epoch: 020/020 | Train: 75.678%\n",
      "Time elapsed: 28.66 min\n",
      "Total Training Time: 28.66 min\n",
      "Test accuracy: 75.91%\n",
      "Total Time: 28.72 min\n"
     ]
    }
   ],
   "source": [
    "train_transform = transforms.Compose([\n",
    "        #### YOUR CODE\n",
    "    transforms.RandomHorizontalFlip(p=0.5),\n",
    "    transforms.Resize((40, 40)),\n",
    "    transforms.RandomCrop((32, 32)),\n",
    "    transforms.ToTensor(),\n",
    "    transforms.Normalize((0.5, 0.5, 0.5), (0.5, 0.5, 0.5))\n",
    "])\n",
    "\n",
    "test_transform = transforms.Compose([\n",
    "        #### YOUR CODE\n",
    "    transforms.Resize((40, 40)),\n",
    "    transforms.CenterCrop((32, 32)),\n",
    "    transforms.ToTensor(),\n",
    "    transforms.Normalize((0.5, 0.5, 0.5), (0.5, 0.5, 0.5))\n",
    "])\n",
    "\n",
    "\n",
    "train_dataset = datasets.CIFAR10(root='data', \n",
    "                                 train=True, \n",
    "                                 transform=train_transform,\n",
    "                                 download=True)\n",
    "\n",
    "test_dataset = datasets.CIFAR10(root='data', \n",
    "                                train=False, \n",
    "                                transform=test_transform)\n",
    "\n",
    "\n",
    "train_loader = DataLoader(dataset=train_dataset, \n",
    "                          batch_size=BATCH_SIZE, \n",
    "                          num_workers=8,\n",
    "                          shuffle=True)\n",
    "\n",
    "test_loader = DataLoader(dataset=test_dataset, \n",
    "                         batch_size=BATCH_SIZE,\n",
    "                         num_workers=8,\n",
    "                         shuffle=False)\n",
    "\n",
    "\n",
    "torch.manual_seed(RANDOM_SEED)\n",
    "\n",
    "model4 = ConvNet4(NUM_CLASSES)\n",
    "model4.to(DEVICE)\n",
    "\n",
    "optimizer = torch.optim.Adam(model4.parameters(), lr=LEARNING_RATE)\n",
    "\n",
    "minibatch_cost, epoch_cost = train(model4, train_loader, test_loader)"
   ]
  },
  {
   "cell_type": "code",
   "execution_count": 15,
   "metadata": {
    "colab": {
     "base_uri": "https://localhost:8080/",
     "height": 164
    },
    "colab_type": "code",
    "id": "zKDg4LBLUwu2",
    "outputId": "4d9e2135-0d00-4c45-852e-4c5fd413a226"
   },
   "outputs": [
    {
     "ename": "NameError",
     "evalue": "ignored",
     "output_type": "error",
     "traceback": [
      "\u001b[0;31m---------------------------------------------------------------------------\u001b[0m",
      "\u001b[0;31mNameError\u001b[0m                                 Traceback (most recent call last)",
      "\u001b[0;32m<ipython-input-15-57af0e33c553>\u001b[0m in \u001b[0;36m<module>\u001b[0;34m()\u001b[0m\n\u001b[0;32m----> 1\u001b[0;31m \u001b[0msummary\u001b[0m\u001b[0;34m(\u001b[0m\u001b[0mmodel1\u001b[0m\u001b[0;34m,\u001b[0m \u001b[0minput_size\u001b[0m\u001b[0;34m=\u001b[0m\u001b[0;34m(\u001b[0m\u001b[0;36m3\u001b[0m\u001b[0;34m,\u001b[0m \u001b[0;36m32\u001b[0m\u001b[0;34m,\u001b[0m \u001b[0;36m32\u001b[0m\u001b[0;34m)\u001b[0m\u001b[0;34m)\u001b[0m\u001b[0;34m\u001b[0m\u001b[0;34m\u001b[0m\u001b[0m\n\u001b[0m",
      "\u001b[0;31mNameError\u001b[0m: name 'summary' is not defined"
     ]
    }
   ],
   "source": [
    "summary(model1, input_size=(3, 32, 32))"
   ]
  },
  {
   "cell_type": "markdown",
   "metadata": {
    "colab_type": "text",
    "id": "hMq6H_FYUwu3"
   },
   "source": [
    "<br>\n",
    "<br>"
   ]
  },
  {
   "cell_type": "markdown",
   "metadata": {
    "colab_type": "text",
    "id": "0UpJuO7mUwu4"
   },
   "source": [
    "## 6) Optional: Training the network for 200 epochs"
   ]
  },
  {
   "cell_type": "markdown",
   "metadata": {
    "colab_type": "text",
    "id": "-ev7ncLdUwu4"
   },
   "source": [
    "In this optional section, train the network from the previous part for 200 epochs to see how it performs as the training loss converges. This will take about 50 minutes and is optional (you will not receive a penalty if you don't run this section)."
   ]
  },
  {
   "cell_type": "code",
   "execution_count": 0,
   "metadata": {
    "colab": {},
    "colab_type": "code",
    "id": "ouR1krbSUwu4"
   },
   "outputs": [],
   "source": [
    "NUM_EPOCHS = 200\n",
    "\n",
    "torch.manual_seed(RANDOM_SEED)\n",
    "\n",
    "model4 = ConvNet4(NUM_CLASSES)\n",
    "model4.to(DEVICE)\n",
    "\n",
    "optimizer = torch.optim.Adam(model4.parameters(), lr=LEARNING_RATE)\n",
    "\n",
    "minibatch_cost, epoch_cost = train(model4, train_loader, test_loader)"
   ]
  },
  {
   "cell_type": "code",
   "execution_count": 0,
   "metadata": {
    "colab": {},
    "colab_type": "code",
    "id": "s5_KpNlCUwu5"
   },
   "outputs": [],
   "source": [
    "plt.plot(range(len(minibatch_cost)), minibatch_cost)\n",
    "plt.ylabel('Cross Entropy')\n",
    "plt.xlabel('Minibatch')\n",
    "plt.show()\n",
    "\n",
    "plt.plot(range(len(epoch_cost)), epoch_cost)\n",
    "plt.ylabel('Cross Entropy')\n",
    "plt.xlabel('Epoch')\n",
    "plt.show()"
   ]
  },
  {
   "cell_type": "markdown",
   "metadata": {
    "colab_type": "text",
    "id": "5EJ-sAwJUwu6"
   },
   "source": [
    "<br>\n",
    "<br>"
   ]
  },
  {
   "cell_type": "markdown",
   "metadata": {
    "colab_type": "text",
    "id": "6H20bH4lUwu6"
   },
   "source": [
    "## Conclusions (Your Answers Required)"
   ]
  },
  {
   "cell_type": "markdown",
   "metadata": {
    "colab_type": "text",
    "id": "AMG7FOt8Uwu7"
   },
   "source": [
    "Now that you implemented the AlexNet-like architecture and made several modifications to it, please report the number of learnable parameters for each model, i.e., the weights and biases and batchnorm parameters, etc. (excluding the parameters of the ADAM optimizer). Also, please paste the training and test set accuracies below.\n"
   ]
  },
  {
   "cell_type": "markdown",
   "metadata": {
    "colab_type": "text",
    "id": "uY1hu07TUwu7"
   },
   "source": [
    "---\n",
    "\n",
    "- **Model from section 1)**\n",
    "    - Train accuracy: 98.440%\n",
    "    - Test accuracy: 71.98%\n",
    "\n",
    "Number of learnable parameters: (include your computation to receive partial points if the final answer is wrong)\n",
    "\n",
    "[insert computation and answer]\n",
    "\n",
    "\n",
    "- Conv2d (1)           5^2 x 3 x 64 + 64 = 4864\n",
    "- Conv2d (2)          5^2 x 64 x 192  + 192 = 307392\n",
    "- Conv2d (3)          3^2 x 192 x 384 + 384 = 663936\n",
    "- Conv2d (4)          5^2 x 384 x 256 + 256 =  2457856\n",
    "- Conv2d (5)          5^2 x 256 x 256 + 256 = 1638656\n",
    "- FC (1)              1^2 x 256 x 4096 + 4096 = 1052672\n",
    "- FC (2)              4096 * 4096 + 4096 = 16781312\n",
    "- FC (3)               4096 * 10 + 4096 = 45056\n",
    "- Total number of parameters: 22951744\n",
    "\n",
    "---"
   ]
  },
  {
   "cell_type": "markdown",
   "metadata": {
    "colab_type": "text",
    "id": "2Y6dOoUsUwu7"
   },
   "source": [
    "- **Model from section 2)**\n",
    "    - Train accuracy: 80.930%\n",
    "    - Test accuracy: 69.52%\n",
    "   \n",
    "\n",
    "Number of learnable parameters: (include your computation to receive partial points if the final answer is wrong)\n",
    "\n",
    "[insert computation and answer]\n",
    "\n",
    "\n",
    "- Conv2d (1)           5^2 x 3 x 64 + 64 = 4864\n",
    "- Conv2d (2)          5^2 x 64 x 192  + 192 = 307392\n",
    "- Conv2d (3)          3^2 x 192 x 384 + 384 = 663936\n",
    "- Conv2d (4)          5^2 x 384 x 256 + 256 =  2457856\n",
    "- Conv2d (5)          5^2 x 256 x 256 + 256 = 1638656\n",
    "- FC (1)              1^2 x 256 x 4096 + 4096 = 1052672\n",
    "- FC (2)              4096 * 4096 + 4096 = 16781312\n",
    "- FC (3)              4096 * 10 + 4096 = 45056\n",
    "- Total number of parameters: 22951744\n",
    "\n",
    "\n",
    "\n",
    "---"
   ]
  },
  {
   "cell_type": "markdown",
   "metadata": {
    "colab_type": "text",
    "id": "T4-lpGgvUwu7"
   },
   "source": [
    "- **Model from section 3)**\n",
    "    - Train accuracy: 94.230%\n",
    "    - Test accuracy: 76.94%\n",
    "\n",
    "\n",
    "[insert computation and answer]\n",
    "\n",
    "\n",
    "- Conv2d (1)          5^2 x 3 x 64 + 64 + 4 x 3 = 4878\n",
    "- Conv2d (2)          5^2 x 64 x 192  + 192 + 4 x 64= 307648\n",
    "- Conv2d (3)           3^2 x 192 x 384 + 384 + 4 x 192= 664704\n",
    "- Conv2d (4)          5^2 x 384 x 256 + 256 + 4 x 384=  2459382\n",
    "- Conv2d (5)          5^2 x 256 x 256 + 256 + 4 x 256 = 1639680\n",
    "- FC (1)          1^2 x 256 x 4096 + 4096 + 4 x 256= 1053696\n",
    "- FC (2)           4096 x 4096 + 4096 + 4 x 4096 = 16797696\n",
    "- FC (3)            4096 x 10 + 4096 + 4 x 4096 =61440\n",
    "- Total number of parameters: 22989124\n",
    "\n",
    "\n",
    "\n",
    "---"
   ]
  },
  {
   "cell_type": "markdown",
   "metadata": {
    "colab_type": "text",
    "id": "hAvIK0SJUwu8"
   },
   "source": [
    "5^2 x 3 x 64 + 64 + 4 x 3 = 4878- **Model from section 4)**\n",
    "    - Train accuracy: 93.440%\n",
    "    - Test accuracy: 69.60%\n",
    "\n",
    "Number of learnable parameters: (include your computation to receive partial points if the final answer is wrong)\n",
    "\n",
    "[insert computation and answer]\n",
    "\n",
    "\n",
    "- Conv2d (1)       5^2 x 3 x 64 + 64 + 4 x 3 = 4878\n",
    "- Conv2d (2)       5^2 x 64 x 192  + 192 + 4 x 64= 307648\n",
    "- Conv2d (3)        3^2 x 192 x 384 + 384 + 4 x 192= 664704\n",
    "- Conv2d (4)        5^2 x 384 x 256 + 256 + 4 x 384=  2459382\n",
    "- Conv2d (5)       5^2 x 256 x 256 + 256 + 4 x 256 = 1639680\n",
    "- FC (1)        1^2 x 256 x 4096 + 4096 + 4 x 4096 = 1053696\n",
    "- FC (2)        1^2 x 4096 x 4096 + 4096 + 4 x 4096 = 16797696\n",
    "- FC (3)           1^2 x 4096 x 10 + 4096 + 4 x 4096 = 61440\n",
    "- Total number of parameters: 22989124\n",
    "\n",
    "\n",
    "\n",
    "---"
   ]
  },
  {
   "cell_type": "markdown",
   "metadata": {
    "colab_type": "text",
    "id": "buxuMXGVUwu8"
   },
   "source": [
    "- **Model from section 5)**\n",
    "    - Train accuracy: 75.678%\n",
    "    - Test accuracy: 75.91%\n",
    "\n",
    "Number of learnable parameters: (include your computation to receive partial points if the final answer is wrong)\n",
    "\n",
    "[insert computation and answer]\n",
    "\n",
    "\n",
    "- Conv2d (1)     5^2 x 3 x 64 + 64 + 4 x 3 + 64 ^2  = 8974\n",
    "- Conv2d (2)     5^2 x 64 x 192  + 192 + 4 x 64 + 192^2 = 344512\n",
    "- Conv2d (3)     3^2 x 192 x 384 + 384 + 4 x 192 + 384^2= 812160\n",
    "- Conv2d (4)     5^2 x 384 x 256 + 256 + 4 x 384 + 256^2 =  2524918\n",
    "- Conv2d (5)      5^2 x 256 x 256 + 256 + 4 x 256 + 256 ^2 = 1705216\n",
    "- FC (1)          1^2 x 256 x 4096 + 4096 + 4 x 256 + 256^2= 1119232\n",
    "- FC (2)          4096 x 4096 + 4096 + 4 x 4096 + 4096^2= 33574912\n",
    "- FC (3)           4096 x 10 + 4096 + 4 x 4096 + 4096^2 = 61440\n",
    "- Total number of parameters: 40151364\n",
    "\n",
    "\n",
    "\n",
    "---"
   ]
  },
  {
   "cell_type": "markdown",
   "metadata": {
    "colab_type": "text",
    "id": "224IcLLLUwu8"
   },
   "source": [
    "- **Model from section 6) [optional]**\n",
    "    - Train accuracy: ???%\n",
    "    - Test accuracy: ???%\n",
    "\n",
    "\n",
    "---"
   ]
  }
 ],
 "metadata": {
  "accelerator": "GPU",
  "colab": {
   "collapsed_sections": [],
   "name": "kernele793fb4062.ipynb",
   "provenance": [],
   "version": "0.3.2"
  },
  "kernelspec": {
   "display_name": "Python 3",
   "language": "python",
   "name": "python3"
  },
  "language_info": {
   "codemirror_mode": {
    "name": "ipython",
    "version": 3
   },
   "file_extension": ".py",
   "mimetype": "text/x-python",
   "name": "python",
   "nbconvert_exporter": "python",
   "pygments_lexer": "ipython3",
   "version": "3.6.7"
  }
 },
 "nbformat": 4,
 "nbformat_minor": 1
}
